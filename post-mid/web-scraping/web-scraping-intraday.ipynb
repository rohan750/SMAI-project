{
 "cells": [
  {
   "cell_type": "code",
   "execution_count": 8,
   "metadata": {},
   "outputs": [
    {
     "name": "stderr",
     "output_type": "stream",
     "text": [
      "\n",
      "  0%|          | 0/50 [00:00<?, ?it/s]\u001b[A\n",
      "  2%|▏         | 1/50 [00:01<00:57,  1.17s/it]\u001b[A\n",
      "  4%|▍         | 2/50 [00:02<00:59,  1.23s/it]\u001b[A\n",
      "  6%|▌         | 3/50 [00:03<00:54,  1.15s/it]\u001b[A\n",
      "  8%|▊         | 4/50 [00:04<00:51,  1.11s/it]\u001b[A\n",
      " 10%|█         | 5/50 [00:05<00:51,  1.15s/it]\u001b[A\n",
      " 12%|█▏        | 6/50 [00:07<00:58,  1.34s/it]\u001b[A\n",
      " 14%|█▍        | 7/50 [00:08<00:54,  1.26s/it]\u001b[A\n",
      " 16%|█▌        | 8/50 [00:09<00:50,  1.21s/it]\u001b[A\n",
      " 18%|█▊        | 9/50 [00:10<00:48,  1.18s/it]\u001b[A\n",
      " 20%|██        | 10/50 [00:11<00:45,  1.14s/it]\u001b[A\n",
      " 22%|██▏       | 11/50 [00:12<00:42,  1.09s/it]\u001b[A\n",
      " 24%|██▍       | 12/50 [00:13<00:40,  1.07s/it]\u001b[A\n",
      " 26%|██▌       | 13/50 [00:15<00:40,  1.09s/it]\u001b[A\n",
      " 28%|██▊       | 14/50 [00:16<00:39,  1.11s/it]\u001b[A\n",
      " 30%|███       | 15/50 [00:17<00:38,  1.10s/it]\u001b[A\n",
      " 32%|███▏      | 16/50 [00:18<00:40,  1.20s/it]\u001b[A\n",
      " 34%|███▍      | 17/50 [00:19<00:37,  1.14s/it]\u001b[A\n",
      " 36%|███▌      | 18/50 [00:20<00:37,  1.18s/it]\u001b[A\n",
      " 38%|███▊      | 19/50 [00:22<00:35,  1.16s/it]\u001b[A\n",
      " 40%|████      | 20/50 [00:23<00:36,  1.20s/it]\u001b[A\n",
      " 42%|████▏     | 21/50 [00:24<00:34,  1.19s/it]\u001b[A\n",
      " 44%|████▍     | 22/50 [00:25<00:32,  1.16s/it]\u001b[A\n",
      " 46%|████▌     | 23/50 [00:26<00:33,  1.22s/it]\u001b[A\n",
      " 48%|████▊     | 24/50 [00:28<00:35,  1.36s/it]\u001b[A\n",
      " 50%|█████     | 25/50 [00:29<00:29,  1.16s/it]\u001b[A\n",
      " 52%|█████▏    | 26/50 [00:30<00:24,  1.02s/it]\u001b[A\n",
      " 54%|█████▍    | 27/50 [00:30<00:20,  1.11it/s]\u001b[A\n",
      " 56%|█████▌    | 28/50 [00:31<00:19,  1.14it/s]\u001b[A\n",
      " 58%|█████▊    | 29/50 [00:32<00:18,  1.14it/s]\u001b[A\n",
      " 60%|██████    | 30/50 [00:33<00:16,  1.22it/s]\u001b[A\n",
      " 62%|██████▏   | 31/50 [00:33<00:14,  1.28it/s]\u001b[A\n",
      " 64%|██████▍   | 32/50 [00:34<00:13,  1.32it/s]\u001b[A\n",
      " 66%|██████▌   | 33/50 [00:35<00:12,  1.34it/s]\u001b[A\n",
      " 68%|██████▊   | 34/50 [00:35<00:11,  1.35it/s]\u001b[A\n",
      " 70%|███████   | 35/50 [00:36<00:11,  1.35it/s]\u001b[A\n",
      " 72%|███████▏  | 36/50 [00:37<00:10,  1.38it/s]\u001b[A\n",
      " 74%|███████▍  | 37/50 [00:38<00:09,  1.39it/s]\u001b[A\n",
      " 76%|███████▌  | 38/50 [00:38<00:08,  1.41it/s]\u001b[A\n",
      " 78%|███████▊  | 39/50 [00:39<00:07,  1.45it/s]\u001b[A\n",
      " 80%|████████  | 40/50 [00:40<00:06,  1.45it/s]\u001b[A\n",
      " 82%|████████▏ | 41/50 [00:40<00:06,  1.45it/s]\u001b[A\n",
      " 84%|████████▍ | 42/50 [00:41<00:05,  1.46it/s]\u001b[A\n",
      " 86%|████████▌ | 43/50 [00:42<00:04,  1.46it/s]\u001b[A\n",
      " 88%|████████▊ | 44/50 [00:42<00:04,  1.45it/s]\u001b[A\n",
      " 90%|█████████ | 45/50 [00:43<00:03,  1.44it/s]\u001b[A\n",
      " 92%|█████████▏| 46/50 [00:44<00:02,  1.45it/s]\u001b[A\n",
      " 94%|█████████▍| 47/50 [00:45<00:02,  1.25it/s]\u001b[A\n",
      " 96%|█████████▌| 48/50 [00:45<00:01,  1.29it/s]\u001b[A\n",
      " 98%|█████████▊| 49/50 [00:46<00:00,  1.34it/s]\u001b[A\n",
      "100%|██████████| 50/50 [00:47<00:00,  1.12it/s]\u001b[A\n",
      "\u001b[A"
     ]
    }
   ],
   "source": [
    "import requests as req\n",
    "import json\n",
    "from tqdm import tqdm\n",
    "\n",
    "f = open('index.txt')\n",
    "lines = list(f)\n",
    "indices = [i.strip('\\n') for i in lines]\n",
    "# print(indices)\n",
    "\n",
    "for index in tqdm(indices[1:]):\n",
    "    url = 'https://www.worldtradingdata.com/api/v1/intraday?symbol='+index+'.NS&range=5&interval=1&api_token=durQCtYtTaXiyCdftY9889cGGMqYZVeozu1kMyRxN1ckMdFt1J99Klg2wlCj'\n",
    "    resp = req.get(url)\n",
    "    f = open('INTRADAY_JSON/'+index+'.json', 'w')\n",
    "    i_json = json.loads(resp.text)\n",
    "#     print(i_json['symbol'])\n",
    "    json.dump(i_json, f)\n",
    "    f.close()"
   ]
  },
  {
   "cell_type": "code",
   "execution_count": 7,
   "metadata": {},
   "outputs": [],
   "source": [
    "url = 'https://www.worldtradingdata.com/api/v1/intraday?symbol='+'NIFTY'+'.NS&range=5&interval=1&api_token=durQCtYtTaXiyCdftY9889cGGMqYZVeozu1kMyRxN1ckMdFt1J99Klg2wlCj'\n",
    "resp = req.get(url)\n",
    "f = open('INTRADAY_JSON/'+'NIFTY50'+'.json', 'w')\n",
    "i_json = json.loads(resp.text)\n",
    "#     print(i_json['symbol'])\n",
    "json.dump(i_json, f)\n",
    "f.close()"
   ]
  },
  {
   "cell_type": "code",
   "execution_count": null,
   "metadata": {},
   "outputs": [],
   "source": []
  }
 ],
 "metadata": {
  "kernelspec": {
   "display_name": "Python 3",
   "language": "python",
   "name": "python3"
  },
  "language_info": {
   "codemirror_mode": {
    "name": "ipython",
    "version": 3
   },
   "file_extension": ".py",
   "mimetype": "text/x-python",
   "name": "python",
   "nbconvert_exporter": "python",
   "pygments_lexer": "ipython3",
   "version": "3.5.2"
  }
 },
 "nbformat": 4,
 "nbformat_minor": 2
}
